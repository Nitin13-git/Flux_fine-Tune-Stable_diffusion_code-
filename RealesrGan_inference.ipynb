{
  "nbformat": 4,
  "nbformat_minor": 0,
  "metadata": {
    "colab": {
      "provenance": []
    },
    "kernelspec": {
      "name": "python3",
      "display_name": "Python 3"
    },
    "language_info": {
      "name": "python"
    }
  },
  "cells": [
    {
      "cell_type": "markdown",
      "source": [
        "### This notebook allows you to upscale and enhance images using the Real-ESRGAN model, which is a deep learning-based super-resolution method. It uses PyTorch as the core framework, and due to the large computational requirements, it is best suited for running on Google Colab, which offers free access to GPU resources.\n",
        "Key Components of the Code:\n",
        "\n",
        "    PyTorch Setup: The code first checks if a GPU is available (using CUDA) and sets the device accordingly ('cuda' for GPU or 'cpu' for CPU). Running the code on a GPU is highly recommended for faster processing, which is why it's ideal for Colab.\n",
        "\n",
        "    Real-ESRGAN Model:\n",
        "        The RealESRGAN model is loaded with a scale factor of 4, meaning it will increase the resolution of the input images by 4 times.\n",
        "        The model weights are automatically downloaded if not present.\n",
        "\n",
        "    Directory Setup:\n",
        "        You need to specify the input and output directories for the images you want to process.\n",
        "        The code will process all .jpg, .jpeg, and .png images in the input directory, enhance them using the Real-ESRGAN model, and save the results to the specified output directory.\n",
        "\n",
        "    Image Processing: For each image, the script:\n",
        "        Opens the image.\n",
        "        Applies super-resolution to enhance the image.\n",
        "        Saves the enhanced image to the output directory.\n",
        "\n",
        "Why Colab?\n",
        "\n",
        "The Real-ESRGAN model and PyTorch rely heavily on GPU acceleration for efficient processing. Since most local machines may not have a powerful GPU available, running this code on Colab ensures that you can take advantage of the CUDA-enabled environment without needing specialized hardware. Additionally, Colab simplifies the setup process by providing the necessary deep learning frameworks pre-installed and readily available.\n",
        "\n",
        "To use this notebook:\n",
        "\n",
        "    Upload your images to Google Drive.\n",
        "    Set the paths to your input and output directories.\n",
        "    Run the cells to enhance your images."
      ],
      "metadata": {
        "id": "zzm8jVf83R3t"
      }
    },
    {
      "cell_type": "code",
      "source": [
        "from huggingface_hub import login\n",
        "import os\n",
        "\n",
        "\n",
        "os.environ[\"HF_API_TOKEN\"] = \"Your HF Token\"\n",
        "\n",
        "login(token=os.environ[\"HF_API_TOKEN\"])"
      ],
      "metadata": {
        "id": "oIya9gyt2Od9"
      },
      "execution_count": null,
      "outputs": []
    },
    {
      "cell_type": "code",
      "source": [
        "from google.colab import drive\n",
        "drive.mount('/content/drive')"
      ],
      "metadata": {
        "id": "X8CflJF72nnf"
      },
      "execution_count": null,
      "outputs": []
    },
    {
      "cell_type": "code",
      "source": [],
      "metadata": {
        "id": "4T3cnxG03Rd0"
      },
      "execution_count": null,
      "outputs": []
    },
    {
      "cell_type": "code",
      "source": [
        "!pip install git+https://github.com/sberbank-ai/Real-ESRGAN.git"
      ],
      "metadata": {
        "id": "h7GRCl-12ryE"
      },
      "execution_count": null,
      "outputs": []
    },
    {
      "cell_type": "code",
      "source": [
        "import os\n",
        "import torch\n",
        "from PIL import Image\n",
        "from RealESRGAN import RealESRGAN\n",
        "\n",
        "\n",
        "device = torch.device('cuda' if torch.cuda.is_available() else 'cpu')\n",
        "model = RealESRGAN(device, scale=4)\n",
        "model.load_weights('weights/RealESRGAN_x4.pth', download=True)\n",
        "\n",
        "\n",
        "input_dir = ''  #paste your input folder path where you have saved the image\n",
        "output_dir = '' # paste your output folder path where you want to save the image\n",
        "os.makedirs(output_dir, exist_ok=True)\n",
        "\n",
        "for filename in os.listdir(input_dir):\n",
        "    if filename.endswith(('.jpg', '.jpeg', '.png')):\n",
        "        filepath = os.path.join(input_dir, filename)\n",
        "        image = Image.open(filepath).convert('RGB')\n",
        "        sr_image = model.predict(image)\n",
        "        output_filepath = os.path.join(output_dir, filename)\n",
        "        sr_image.save(output_filepath)\n",
        "        print(f\"Processed: {filename}, saved to: {output_filepath}\")\n",
        "\n",
        "print(\"Finished processing all images.\")"
      ],
      "metadata": {
        "id": "5Ce7HP8T2wZV"
      },
      "execution_count": null,
      "outputs": []
    }
  ]
}